{
  "nbformat": 4,
  "nbformat_minor": 0,
  "metadata": {
    "colab": {
      "name": "Function Optimization Project.ipynb",
      "version": "0.3.2",
      "provenance": []
    },
    "kernelspec": {
      "name": "python3",
      "display_name": "Python 3"
    }
  },
  "cells": [
    {
      "cell_type": "markdown",
      "metadata": {
        "id": "view-in-github",
        "colab_type": "text"
      },
      "source": [
        "[View in Colaboratory](https://colab.research.google.com/github/thomcom/ML-Assignment-1/blob/master/Function_Optimization_Project.ipynb)"
      ]
    },
    {
      "metadata": {
        "id": "k7M3XLxq3XSa",
        "colab_type": "text"
      },
      "cell_type": "markdown",
      "source": [
        "Create python definitions of the following 5 functions and their derivatives:\n",
        "\n",
        "$f(x) = ln(x^3)$\n",
        "\n",
        "$f(x) = exp(x^{1/3})$\n",
        "\n",
        "$f(x) = x^2 sin(x)$\n",
        "\n",
        "$f(x) = \\frac{\\sqrt{2}}{sin(x) cos(x)}$\n",
        "\n",
        "$f(x) = \\sigma(x)$ // this is the sigmoid function, important historically for neural nets"
      ]
    },
    {
      "metadata": {
        "id": "1qCoh8PN3VDd",
        "colab_type": "code",
        "colab": {}
      },
      "cell_type": "code",
      "source": [
        "# LAMBDA SCHOOL\n",
        "#\n",
        "# MACHINE LEARNING\n",
        "#\n",
        "# MIT LICENSE\n",
        "\n",
        "# Your code goes here..."
      ],
      "execution_count": 0,
      "outputs": []
    },
    {
      "metadata": {
        "id": "kwX3Vf_i7pvN",
        "colab_type": "text"
      },
      "cell_type": "markdown",
      "source": [
        "Plot the above five functions each on separate plots."
      ]
    },
    {
      "metadata": {
        "id": "B55QTlcc75dT",
        "colab_type": "code",
        "colab": {}
      },
      "cell_type": "code",
      "source": [
        "import numpy as np\n",
        "import matplotlib.pyplot as plt\n",
        "\n",
        "# Your code goes here"
      ],
      "execution_count": 0,
      "outputs": []
    },
    {
      "metadata": {
        "id": "OA0W4zqC8AP4",
        "colab_type": "text"
      },
      "cell_type": "markdown",
      "source": [
        "Where is the derivative of each function equal to zero?"
      ]
    }
  ]
}